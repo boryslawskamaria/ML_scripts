{
  "nbformat": 4,
  "nbformat_minor": 0,
  "metadata": {
    "colab": {
      "name": "breast_cancer_models.ipynb",
      "provenance": [],
      "authorship_tag": "ABX9TyObG9SveG9f7O96Mgqg23pa",
      "include_colab_link": true
    },
    "kernelspec": {
      "name": "python3",
      "display_name": "Python 3"
    },
    "language_info": {
      "name": "python"
    }
  },
  "cells": [
    {
      "cell_type": "markdown",
      "metadata": {
        "id": "view-in-github",
        "colab_type": "text"
      },
      "source": [
        "<a href=\"https://colab.research.google.com/github/boryslawskamaria/ML_scripts/blob/main/breast_cancer_models.ipynb\" target=\"_parent\"><img src=\"https://colab.research.google.com/assets/colab-badge.svg\" alt=\"Open In Colab\"/></a>"
      ]
    },
    {
      "cell_type": "markdown",
      "metadata": {
        "id": "8VJHacl976iR"
      },
      "source": [
        "Models written to decide if a given patient probably has malignant breast cancer.\n",
        "\n",
        "\n",
        "---\n",
        "\n",
        "1.   No hidden layers\n",
        "2.   1 hidden layer and 2 nodes\n",
        "3.   1 hidden layer and 4 nodes\n",
        "4.   1 hidden layer and 10 nodes\n"
      ]
    },
    {
      "cell_type": "code",
      "metadata": {
        "id": "UM12cHh778hd"
      },
      "source": [
        "import pandas as pd\n",
        "import numpy as np\n",
        "from  sklearn.neural_network import MLPClassifier\n",
        "from sklearn.metrics import confusion_matrix, f1_score, accuracy_score\n",
        "from sklearn import linear_model\n",
        "\n",
        "url=('https://raw.githubusercontent.com/boryslawskamaria/ML_scripts/main/wbca.csv')\n",
        "\n",
        "A=pd.read_csv(url)"
      ],
      "execution_count": 8,
      "outputs": []
    },
    {
      "cell_type": "code",
      "metadata": {
        "colab": {
          "base_uri": "https://localhost:8080/"
        },
        "id": "_pwYj1kup7t6",
        "outputId": "d1c3e6f2-b7c8-4c65-cb41-3ae180d15b77"
      },
      "source": [
        "X=A[[\"Adhes\",\"BNucl\",\"Chrom\",\"Epith\",\"Mitos\",\"NNucl\",\"Thick\",\"UShap\",\"USize\"]] \n",
        "Y=A['Class']\n",
        "y=np.asarray(Y,dtype=np.float64)\n",
        "x=np.asarray(X)\n",
        "\n",
        "mlp=MLPClassifier(hidden_layer_sizes=(),activation='logistic',max_iter=5000)\n",
        "mlp.fit(x, y)\n",
        "Z=mlp.predict(x)\n",
        "\n",
        "print(\"Zero hidden layers: \\n\" ,confusion_matrix(y, Z),  \"\\n f1 =\", f1_score(y,Z), \"\\n accuracy =\",accuracy_score(y,Z), \"\\n\")\n",
        "\n",
        "mlp=MLPClassifier(hidden_layer_sizes=(2),activation='logistic',max_iter=5000)\n",
        "mlp.fit(x, y)\n",
        "Z=mlp.predict(x)\n",
        "\n",
        "print(\"1 hidden layer with 2 knots: \\n\" ,confusion_matrix(y, Z),  \"\\n f1 =\", f1_score(y,Z), \"\\n accuracy =\",accuracy_score(y,Z), \"\\n\")\n",
        "\n",
        "mlp=MLPClassifier(hidden_layer_sizes=(4),activation='logistic',max_iter=5000)\n",
        "mlp.fit(x, y)\n",
        "Z=mlp.predict(x)\n",
        "\n",
        "print(\"1 hidden layer with 4 knots: \\n\" ,confusion_matrix(y, Z),  \"\\n f1 =\", f1_score(y,Z), \"\\n accuracy =\",accuracy_score(y,Z), \"\\n\")\n",
        "\n",
        "mlp=MLPClassifier(hidden_layer_sizes=(10),activation='logistic',max_iter=5000)\n",
        "mlp.fit(x, y)\n",
        "Z=mlp.predict(x)\n",
        "\n",
        "print(\"1 hidden layer with 10 knots: \\n\" ,confusion_matrix(y, Z),  \"\\n f1 =\", f1_score(y,Z), \"\\n accuracy =\",accuracy_score(y,Z), \"\\n\")\n",
        "\n",
        "A=linear_model.LogisticRegression(C=10)\n",
        "A.fit(x, y)\n",
        "Z=A.predict(x)\n",
        "\n",
        "print(\"Logistic regression: \\n\" ,confusion_matrix(y, Z),  \"\\n f1 =\", f1_score(y,Z), \"\\n accuracy =\",accuracy_score(y,Z), \"\\n\")\n"
      ],
      "execution_count": 9,
      "outputs": [
        {
          "output_type": "stream",
          "text": [
            "Zero hidden layers: \n",
            " [[225  13]\n",
            " [  9 434]] \n",
            " f1 = 0.9752808988764043 \n",
            " accuracy = 0.9676945668135095 \n",
            "\n",
            "1 hidden layer with 2 knots: \n",
            " [[230   8]\n",
            " [ 11 432]] \n",
            " f1 = 0.9784824462061155 \n",
            " accuracy = 0.9720998531571219 \n",
            "\n",
            "1 hidden layer with 4 knots: \n",
            " [[230   8]\n",
            " [ 10 433]] \n",
            " f1 = 0.9796380090497738 \n",
            " accuracy = 0.973568281938326 \n",
            "\n",
            "1 hidden layer with 10 knots: \n",
            " [[231   7]\n",
            " [  9 434]] \n",
            " f1 = 0.9819004524886877 \n",
            " accuracy = 0.9765051395007343 \n",
            "\n",
            "Logistic regression: \n",
            " [[228  10]\n",
            " [  9 434]] \n",
            " f1 = 0.9785794813979707 \n",
            " accuracy = 0.9720998531571219 \n",
            "\n"
          ],
          "name": "stdout"
        }
      ]
    }
  ]
}