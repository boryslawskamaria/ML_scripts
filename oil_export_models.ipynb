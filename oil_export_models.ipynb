{
  "nbformat": 4,
  "nbformat_minor": 0,
  "metadata": {
    "colab": {
      "name": "oil_export_models.ipynb",
      "provenance": [],
      "collapsed_sections": [],
      "authorship_tag": "ABX9TyPOn9JSZq9DZFJjyN5lDiBy",
      "include_colab_link": true
    },
    "kernelspec": {
      "name": "python3",
      "display_name": "Python 3"
    },
    "language_info": {
      "name": "python"
    }
  },
  "cells": [
    {
      "cell_type": "markdown",
      "metadata": {
        "id": "view-in-github",
        "colab_type": "text"
      },
      "source": [
        "<a href=\"https://colab.research.google.com/github/boryslawskamaria/ML_scripts/blob/main/oil_export_models.ipynb\" target=\"_parent\"><img src=\"https://colab.research.google.com/assets/colab-badge.svg\" alt=\"Open In Colab\"/></a>"
      ]
    },
    {
      "cell_type": "markdown",
      "metadata": {
        "id": "kRuU1d0LozBR"
      },
      "source": [
        "Models are created to decide whether a given country exports oil."
      ]
    },
    {
      "cell_type": "code",
      "metadata": {
        "id": "qJXaslzeYJH8"
      },
      "source": [
        "import pandas as pd\n",
        "import numpy as np\n",
        "from  sklearn.neural_network import MLPClassifier\n",
        "from sklearn.metrics import confusion_matrix, f1_score, accuracy_score\n",
        "from sklearn import linear_model\n",
        "\n",
        "url='https://raw.githubusercontent.com/boryslawskamaria/ML_scripts/main/infmort.csv'\n",
        "\n",
        "A=pd.read_csv(url)\n"
      ],
      "execution_count": 12,
      "outputs": []
    },
    {
      "cell_type": "code",
      "metadata": {
        "colab": {
          "base_uri": "https://localhost:8080/"
        },
        "id": "3onIEFiZez5L",
        "outputId": "a6d8625f-8b6d-4377-b44f-ecccd199d7ff"
      },
      "source": [
        "A=A.dropna()\n",
        "X=A[[\"income\", \"mortality\"]] \n",
        "Y=A['oil']\n",
        "Y[Y==\"no oil exports\"]=0\n",
        "Y[Y==\"oil exports\"]=1\n",
        "y=np.asarray(Y,dtype=np.float64)\n",
        "x=np.asarray(X)\n",
        "\n",
        "mlp=MLPClassifier(hidden_layer_sizes=(),activation='logistic',max_iter=5000)\n",
        "mlp.fit(x, y)\n",
        "Z=mlp.predict(x)\n",
        "\n",
        "print(\"Zero hidden layers: \\n\" ,confusion_matrix(y, Z),  \"\\n f1 =\", f1_score(y,Z), \"\\n prediction accuracy =\",accuracy_score(y,Z), \"\\n\")\n",
        "\n",
        "mlp=MLPClassifier(hidden_layer_sizes=(2),activation='logistic',max_iter=5000)\n",
        "mlp.fit(x, y)\n",
        "Z=mlp.predict(x)\n",
        "\n",
        "print(\"1 hidden layer with 2 knots: \\n\" ,confusion_matrix(y, Z),  \"\\n f1 =\", f1_score(y,Z), \"\\n % of prediction accuracy =\",accuracy_score(y,Z), \"\\n\")\n",
        "\n",
        "mlp=MLPClassifier(hidden_layer_sizes=(4),activation='logistic',max_iter=5000)\n",
        "mlp.fit(x, y)\n",
        "Z=mlp.predict(x)\n",
        "\n",
        "print(\"1 hidden layer with 4 knots: \\n\" ,confusion_matrix(y, Z),  \"\\n f1 =\", f1_score(y,Z), \"\\n % of prediction accuracy =\",accuracy_score(y,Z), \"\\n\")\n",
        "\n",
        "mlp=MLPClassifier(hidden_layer_sizes=(10),activation='logistic',max_iter=5000)\n",
        "mlp.fit(x, y)\n",
        "Z=mlp.predict(x)\n",
        "\n",
        "print(\"1 hidden layer with 10 knotsi: \\n\" ,confusion_matrix(y, Z),  \"\\n f1 =\", f1_score(y,Z), \"\\n % of prediction accuracy =\",accuracy_score(y,Z), \"\\n\")\n",
        "\n",
        "A=linear_model.LogisticRegression(C=10)\n",
        "A.fit(x, y)\n",
        "Z=A.predict(x)\n",
        "\n",
        "print(\"Logistic regression: \\n\" ,confusion_matrix(y, Z),  \"\\n f1 =\", f1_score(y,Z), \"\\n % of prediction accuracy =\",accuracy_score(y,Z), \"\\n\")"
      ],
      "execution_count": 13,
      "outputs": [
        {
          "output_type": "stream",
          "text": [
            "/usr/local/lib/python3.7/dist-packages/ipykernel_launcher.py:5: SettingWithCopyWarning: \n",
            "A value is trying to be set on a copy of a slice from a DataFrame\n",
            "\n",
            "See the caveats in the documentation: https://pandas.pydata.org/pandas-docs/stable/user_guide/indexing.html#returning-a-view-versus-a-copy\n",
            "  \"\"\"\n"
          ],
          "name": "stderr"
        },
        {
          "output_type": "stream",
          "text": [
            "Zero hidden layers: \n",
            " [[93  0]\n",
            " [ 8  0]] \n",
            " f1 = 0.0 \n",
            " prediction accuracy = 0.9207920792079208 \n",
            "\n",
            "1 hidden layer with 2 knots: \n",
            " [[93  0]\n",
            " [ 8  0]] \n",
            " f1 = 0.0 \n",
            " % of prediction accuracy = 0.9207920792079208 \n",
            "\n",
            "1 hidden layer with 4 knots: \n",
            " [[93  0]\n",
            " [ 8  0]] \n",
            " f1 = 0.0 \n",
            " % of prediction accuracy = 0.9207920792079208 \n",
            "\n",
            "1 hidden layer with 10 knotsi: \n",
            " [[93  0]\n",
            " [ 8  0]] \n",
            " f1 = 0.0 \n",
            " % of prediction accuracy = 0.9207920792079208 \n",
            "\n",
            "Logistic regression: \n",
            " [[93  0]\n",
            " [ 7  1]] \n",
            " f1 = 0.2222222222222222 \n",
            " % of prediction accuracy = 0.9306930693069307 \n",
            "\n"
          ],
          "name": "stdout"
        }
      ]
    }
  ]
}