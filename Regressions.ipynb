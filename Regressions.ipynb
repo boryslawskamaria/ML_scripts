{
  "nbformat": 4,
  "nbformat_minor": 0,
  "metadata": {
    "colab": {
      "name": "Regressions",
      "provenance": [],
      "authorship_tag": "ABX9TyMxrhjYizGZ9IqeRBRwi4TM",
      "include_colab_link": true
    },
    "kernelspec": {
      "name": "python3",
      "display_name": "Python 3"
    },
    "language_info": {
      "name": "python"
    }
  },
  "cells": [
    {
      "cell_type": "markdown",
      "metadata": {
        "id": "view-in-github",
        "colab_type": "text"
      },
      "source": [
        "<a href=\"https://colab.research.google.com/github/boryslawskamaria/ML_scripts/blob/main/Regressions.ipynb\" target=\"_parent\"><img src=\"https://colab.research.google.com/assets/colab-badge.svg\" alt=\"Open In Colab\"/></a>"
      ]
    },
    {
      "cell_type": "code",
      "metadata": {
        "id": "yR9PHWknvd39"
      },
      "source": [
        "import numpy as np\n",
        "import pandas as pd\n",
        "import numpy.linalg as alg\n",
        "import scipy.stats as stats\n",
        "import sklearn.linear_model as lm\n",
        "from sklearn import datasets, linear_model\n",
        "import matplotlib.pyplot as plt\n"
      ],
      "execution_count": 2,
      "outputs": []
    },
    {
      "cell_type": "markdown",
      "metadata": {
        "id": "3f6EgYz5xS11"
      },
      "source": [
        "simple linear regression model\n",
        "\n",
        "$$\n",
        "y=a\\cdot x + b\n",
        "$$"
      ]
    },
    {
      "cell_type": "code",
      "metadata": {
        "colab": {
          "base_uri": "https://localhost:8080/",
          "height": 341
        },
        "id": "CF89iHRnvqbu",
        "outputId": "c5075cd1-245b-4471-e0fe-9ed7e970d39e"
      },
      "source": [
        "M1 = np.vstack( (np.ones_like(x), x) ).T\n",
        "p1 = np.linalg.lstsq(M1, y)\n",
        "axes = plt.gca()\n",
        "axes.set_xlim([0,3])\n",
        "axes.set_ylim([0,8])\n",
        "c=a[:200]\n",
        "plt.plot(x, y, 'ok', ms=10);\n",
        "plt.plot(c, p1[0][1]*c+p1[0][0], 'b')\n",
        "plt.show()"
      ],
      "execution_count": 7,
      "outputs": [
        {
          "output_type": "stream",
          "text": [
            "/usr/local/lib/python3.7/dist-packages/ipykernel_launcher.py:2: FutureWarning: `rcond` parameter will change to the default of machine precision times ``max(M, N)`` where M and N are the input matrix dimensions.\n",
            "To use the future default and silence this warning we advise to pass `rcond=None`, to keep using the old, explicitly pass `rcond=-1`.\n",
            "  \n"
          ],
          "name": "stderr"
        },
        {
          "output_type": "display_data",
          "data": {
            "image/png": "[encoded data removed]",
            "text/plain": [
              "<Figure size 432x288 with 1 Axes>"
            ]
          },
          "metadata": {
            "tags": [],
            "needs_background": "light"
          }
        }
      ]
    },
    {
      "cell_type": "markdown",
      "metadata": {
        "id": "DzTaUljXxwfa"
      },
      "source": [
        "regression model $$\n",
        "y=a_1\\cdot x + a_2 \\cdot x^2 + b\n",
        "$$"
      ]
    },
    {
      "cell_type": "code",
      "metadata": {
        "colab": {
          "base_uri": "https://localhost:8080/",
          "height": 341
        },
        "id": "Ie8VMYrgx4p_",
        "outputId": "b5aef74d-bd97-476a-8ea3-a607e87c16f0"
      },
      "source": [
        "M2 = np.vstack( (np.ones_like(x), x, x**2) ).T\n",
        "p2 = np.linalg.lstsq(M2, y)\n",
        "axes = plt.gca()\n",
        "axes.set_xlim([0,3])\n",
        "axes.set_ylim([0,8])\n",
        "plt.plot(x, y, 'ok', ms=10);\n",
        "plt.plot(c, p2[0][2]*c**2+p2[0][1]*c+p2[0][0], 'b')\n",
        "plt.show()\n",
        "\n"
      ],
      "execution_count": 5,
      "outputs": [
        {
          "output_type": "stream",
          "text": [
            "/usr/local/lib/python3.7/dist-packages/ipykernel_launcher.py:2: FutureWarning: `rcond` parameter will change to the default of machine precision times ``max(M, N)`` where M and N are the input matrix dimensions.\n",
            "To use the future default and silence this warning we advise to pass `rcond=None`, to keep using the old, explicitly pass `rcond=-1`.\n",
            "  \n"
          ],
          "name": "stderr"
        },
        {
          "output_type": "display_data",
          "data": {
            "image/png": "[encoded data removed]",
            "text/plain": [
              "<Figure size 432x288 with 1 Axes>"
            ]
          },
          "metadata": {
            "tags": [],
            "needs_background": "light"
          }
        }
      ]
    },
    {
      "cell_type": "markdown",
      "metadata": {
        "id": "Cc1p04lByMPs"
      },
      "source": [
        "regression model $$\n",
        "y=a_1\\cdot x + a_2 \\cdot x^2 + a_3 \\cdot x ^3 + b\n",
        "$$"
      ]
    },
    {
      "cell_type": "code",
      "metadata": {
        "colab": {
          "base_uri": "https://localhost:8080/",
          "height": 341
        },
        "id": "4xD0VD3QyRui",
        "outputId": "8df6f822-8297-4ba8-979f-3ce6a010d5e7"
      },
      "source": [
        "M3 = np.vstack( (np.ones_like(x), x, x**2, x**3) ).T\n",
        "p3 = np.linalg.lstsq(M3, y)\n",
        "axes = plt.gca()\n",
        "axes.set_xlim([0,3])\n",
        "axes.set_ylim([0,8])\n",
        "plt.plot(x, y, 'ok', ms=10);\n",
        "plt.plot(c,p3[0][3]*c**3+ p3[0][2]*c**2+p3[0][1]*c+p3[0][0], 'b')\n",
        "plt.show()\n",
        "\n"
      ],
      "execution_count": 8,
      "outputs": [
        {
          "output_type": "stream",
          "text": [
            "/usr/local/lib/python3.7/dist-packages/ipykernel_launcher.py:2: FutureWarning: `rcond` parameter will change to the default of machine precision times ``max(M, N)`` where M and N are the input matrix dimensions.\n",
            "To use the future default and silence this warning we advise to pass `rcond=None`, to keep using the old, explicitly pass `rcond=-1`.\n",
            "  \n"
          ],
          "name": "stderr"
        },
        {
          "output_type": "display_data",
          "data": {
            "image/png": "[encoded data removed]",
            "text/plain": [
              "<Figure size 432x288 with 1 Axes>"
            ]
          },
          "metadata": {
            "tags": [],
            "needs_background": "light"
          }
        }
      ]
    },
    {
      "cell_type": "markdown",
      "metadata": {
        "id": "jR4XTE0VyWSa"
      },
      "source": [
        "regression model $$\n",
        "y=a_1\\cdot x + a_2 \\cdot x^2 + a_3 \\cdot x ^3 + a_4 \\cdot x ^4 + b\n",
        "$$"
      ]
    },
    {
      "cell_type": "code",
      "metadata": {
        "colab": {
          "base_uri": "https://localhost:8080/",
          "height": 341
        },
        "id": "FApHI-iOyd2f",
        "outputId": "4034b94b-f3cd-43c4-e4f5-1409449a665a"
      },
      "source": [
        "M4 = np.vstack( (np.ones_like(x), x, x**2, x**3, x**4) ).T\n",
        "p4 = np.linalg.lstsq(M4, y)\n",
        "axes = plt.gca()\n",
        "axes.set_xlim([0,3])\n",
        "axes.set_ylim([0,8])\n",
        "plt.plot(x, y, 'ok', ms=10);\n",
        "plt.plot(c,p4[0][4]*c**4+ p4[0][3]*c**3+ p4[0][2]*c**2+p4[0][1]*c+p4[0][0], 'b')\n",
        "plt.show()\n"
      ],
      "execution_count": 9,
      "outputs": [
        {
          "output_type": "stream",
          "text": [
            "/usr/local/lib/python3.7/dist-packages/ipykernel_launcher.py:2: FutureWarning: `rcond` parameter will change to the default of machine precision times ``max(M, N)`` where M and N are the input matrix dimensions.\n",
            "To use the future default and silence this warning we advise to pass `rcond=None`, to keep using the old, explicitly pass `rcond=-1`.\n",
            "  \n"
          ],
          "name": "stderr"
        },
        {
          "output_type": "display_data",
          "data": {
            "image/png": "[encoded data removed]",
            "text/plain": [
              "<Figure size 432x288 with 1 Axes>"
            ]
          },
          "metadata": {
            "tags": [],
            "needs_background": "light"
          }
        }
      ]
    },
    {
      "cell_type": "markdown",
      "metadata": {
        "id": "RuEhanXTygAd"
      },
      "source": [
        "regression model $$\n",
        "y=a_1\\cdot x + a_2 \\cdot x^2 + a_3 \\cdot x ^3 + a_4 \\cdot x ^4 + a_5 \\cdot x^5 + b\n",
        "$$\n"
      ]
    },
    {
      "cell_type": "code",
      "metadata": {
        "colab": {
          "base_uri": "https://localhost:8080/",
          "height": 341
        },
        "id": "dk46ZGWOyleD",
        "outputId": "ea6290f5-7714-4482-fd37-c75de07dc5ca"
      },
      "source": [
        "\n",
        "M5 = np.vstack( (np.ones_like(x), x, x**2, x**3, x**4, x**5) ).T\n",
        "p5 = np.linalg.lstsq(M5, y)\n",
        "axes = plt.gca()\n",
        "axes.set_xlim([0,3])\n",
        "axes.set_ylim([0,8])\n",
        "plt.plot(x, y, 'ok', ms=10);\n",
        "plt.plot(c,p5[0][5]*c**5+p5[0][4]*c**4+p5[0][3]*c**3+ p5[0][2]*c**2+p5[0][1]*c+p5[0][0], 'b')\n",
        "plt.show()"
      ],
      "execution_count": 11,
      "outputs": [
        {
          "output_type": "stream",
          "text": [
            "/usr/local/lib/python3.7/dist-packages/ipykernel_launcher.py:3: FutureWarning: `rcond` parameter will change to the default of machine precision times ``max(M, N)`` where M and N are the input matrix dimensions.\n",
            "To use the future default and silence this warning we advise to pass `rcond=None`, to keep using the old, explicitly pass `rcond=-1`.\n",
            "  This is separate from the ipykernel package so we can avoid doing imports until\n"
          ],
          "name": "stderr"
        },
        {
          "output_type": "display_data",
          "data": {
            "image/png": "[encoded data removed]",
            "text/plain": [
              "<Figure size 432x288 with 1 Axes>"
            ]
          },
          "metadata": {
            "tags": [],
            "needs_background": "light"
          }
        }
      ]
    },
    {
      "cell_type": "markdown",
      "metadata": {
        "id": "WmScBWgLysyD"
      },
      "source": [
        "Measures of goodness of fit"
      ]
    },
    {
      "cell_type": "code",
      "metadata": {
        "colab": {
          "base_uri": "https://localhost:8080/"
        },
        "id": "kcIp5Yyyy6oV",
        "outputId": "6bc2efd3-2e95-4c9a-deef-6f6325ccd91b"
      },
      "source": [
        "\n",
        "import statsmodels.api as sm\n",
        "Res1 = sm.OLS(y, M1).fit()\n",
        "sm.OLS(y, M1).fit()\n",
        "print(Res1.summary2())\n",
        "\n",
        "\n",
        "Res2 = sm.OLS(y, M2).fit()\n",
        "sm.OLS(y, M2).fit()\n",
        "print(Res2.summary2())\n",
        "\n",
        "Res3 = sm.OLS(y, M3).fit()\n",
        "sm.OLS(y, M3).fit()\n",
        "print(Res3.summary2())\n",
        "\n",
        "Res4 = sm.OLS(y, M4).fit()\n",
        "sm.OLS(y, M4).fit()\n",
        "print(Res4.summary2())\n",
        "\n",
        "Res5 = sm.OLS(y, M5).fit()\n",
        "sm.OLS(y, M5).fit()\n",
        "print(Res5.summary2())\n"
      ],
      "execution_count": 12,
      "outputs": [
        {
          "output_type": "stream",
          "text": [
            "                 Results: Ordinary least squares\n",
            "=================================================================\n",
            "Model:              OLS              Adj. R-squared:     0.460   \n",
            "Dependent Variable: y                AIC:                610.3242\n",
            "Date:               2021-03-28 17:05 BIC:                615.5345\n",
            "No. Observations:   100              Log-Likelihood:     -303.16 \n",
            "Df Model:           1                F-statistic:        85.41   \n",
            "Df Residuals:       98               Prob (F-statistic): 5.35e-15\n",
            "R-squared:          0.466            Scale:              25.676  \n",
            "-------------------------------------------------------------------\n",
            "           Coef.    Std.Err.      t      P>|t|     [0.025    0.975]\n",
            "-------------------------------------------------------------------\n",
            "const     -3.2964     1.1108   -2.9675   0.0038   -5.5009   -1.0920\n",
            "x1         6.0046     0.6497    9.2420   0.0000    4.7152    7.2939\n",
            "-----------------------------------------------------------------\n",
            "Omnibus:             41.281       Durbin-Watson:          1.751  \n",
            "Prob(Omnibus):       0.000        Jarque-Bera (JB):       107.409\n",
            "Skew:                1.498        Prob(JB):               0.000  \n",
            "Kurtosis:            7.099        Condition No.:          5      \n",
            "=================================================================\n",
            "\n",
            "                 Results: Ordinary least squares\n",
            "=================================================================\n",
            "Model:              OLS              Adj. R-squared:     0.751   \n",
            "Dependent Variable: y                AIC:                534.0653\n",
            "Date:               2021-03-28 17:05 BIC:                541.8808\n",
            "No. Observations:   100              Log-Likelihood:     -264.03 \n",
            "Df Model:           2                F-statistic:        150.0   \n",
            "Df Residuals:       97               Prob (F-statistic): 2.06e-30\n",
            "R-squared:          0.756            Scale:              11.861  \n",
            "-------------------------------------------------------------------\n",
            "         Coef.     Std.Err.      t      P>|t|     [0.025     0.975]\n",
            "-------------------------------------------------------------------\n",
            "const     6.2140     1.1643    5.3373   0.0000     3.9033    8.5247\n",
            "x1      -11.4286     1.6835   -6.7885   0.0000   -14.7700   -8.0873\n",
            "x2        5.8203     0.5424   10.7309   0.0000     4.7438    6.8968\n",
            "-----------------------------------------------------------------\n",
            "Omnibus:              10.448       Durbin-Watson:          1.866 \n",
            "Prob(Omnibus):        0.005        Jarque-Bera (JB):       11.168\n",
            "Skew:                 0.640        Prob(JB):               0.004 \n",
            "Kurtosis:             4.020        Condition No.:          25    \n",
            "=================================================================\n",
            "\n",
            "                 Results: Ordinary least squares\n",
            "=================================================================\n",
            "Model:              OLS              Adj. R-squared:     0.990   \n",
            "Dependent Variable: y                AIC:                213.5377\n",
            "Date:               2021-03-28 17:05 BIC:                223.9584\n",
            "No. Observations:   100              Log-Likelihood:     -102.77 \n",
            "Df Model:           3                F-statistic:        3264.   \n",
            "Df Residuals:       96               Prob (F-statistic): 1.91e-96\n",
            "R-squared:          0.990            Scale:              0.47631 \n",
            "------------------------------------------------------------------\n",
            "           Coef.    Std.Err.     t      P>|t|    [0.025    0.975] \n",
            "------------------------------------------------------------------\n",
            "const      -3.3523    0.3064  -10.9403  0.0000   -3.9605   -2.7441\n",
            "x1         26.0061    0.8474   30.6909  0.0000   24.3241   27.6881\n",
            "x2        -25.5269    0.6599  -38.6825  0.0000  -26.8368  -24.2170\n",
            "x3          7.0570    0.1465   48.1602  0.0000    6.7661    7.3478\n",
            "-----------------------------------------------------------------\n",
            "Omnibus:              8.944        Durbin-Watson:           2.260\n",
            "Prob(Omnibus):        0.011        Jarque-Bera (JB):        9.043\n",
            "Skew:                 0.592        Prob(JB):                0.011\n",
            "Kurtosis:             3.878        Condition No.:           163  \n",
            "=================================================================\n",
            "\n",
            "                 Results: Ordinary least squares\n",
            "==================================================================\n",
            "Model:              OLS              Adj. R-squared:     0.999    \n",
            "Dependent Variable: y                AIC:                -42.7606 \n",
            "Date:               2021-03-28 17:05 BIC:                -29.7348 \n",
            "No. Observations:   100              Log-Likelihood:     26.380   \n",
            "Df Model:           4                F-statistic:        3.235e+04\n",
            "Df Residuals:       95               Prob (F-statistic): 6.21e-148\n",
            "R-squared:          0.999            Scale:              0.036363 \n",
            "--------------------------------------------------------------------\n",
            "           Coef.    Std.Err.      t       P>|t|     [0.025    0.975]\n",
            "--------------------------------------------------------------------\n",
            "const     -1.0345     0.1086    -9.5274   0.0000   -1.2500   -0.8189\n",
            "x1        10.5670     0.5098    20.7289   0.0000    9.5550   11.5790\n",
            "x2        -2.7276     0.6931    -3.9354   0.0002   -4.1036   -1.3516\n",
            "x3        -4.7328     0.3482   -13.5940   0.0000   -5.4239   -4.0416\n",
            "x4         1.9744     0.0579    34.0951   0.0000    1.8595    2.0894\n",
            "------------------------------------------------------------------\n",
            "Omnibus:               3.029        Durbin-Watson:           2.197\n",
            "Prob(Omnibus):         0.220        Jarque-Bera (JB):        2.832\n",
            "Skew:                  0.411        Prob(JB):                0.243\n",
            "Kurtosis:              2.940        Condition No.:           1262 \n",
            "==================================================================\n",
            "* The condition number is large (1e+03). This might indicate\n",
            "strong multicollinearity or other numerical problems.\n",
            "                 Results: Ordinary least squares\n",
            "==================================================================\n",
            "Model:              OLS              Adj. R-squared:     0.999    \n",
            "Dependent Variable: y                AIC:                -40.8581 \n",
            "Date:               2021-03-28 17:05 BIC:                -25.2271 \n",
            "No. Observations:   100              Log-Likelihood:     26.429   \n",
            "Df Model:           5                F-statistic:        2.564e+04\n",
            "Df Residuals:       94               Prob (F-statistic): 1.14e-145\n",
            "R-squared:          0.999            Scale:              0.036715 \n",
            "--------------------------------------------------------------------\n",
            "            Coef.    Std.Err.      t      P>|t|     [0.025    0.975]\n",
            "--------------------------------------------------------------------\n",
            "const      -1.0051     0.1460   -6.8837   0.0000   -1.2950   -0.7152\n",
            "x1         10.3034     1.0101   10.2009   0.0000    8.2979   12.3089\n",
            "x2         -2.1628     1.9910   -1.0863   0.2801   -6.1160    1.7904\n",
            "x3         -5.2093     1.6121   -3.2313   0.0017   -8.4102   -2.0084\n",
            "x4          2.1476     0.5749    3.7359   0.0003    1.0062    3.2890\n",
            "x5         -0.0227     0.0749   -0.3028   0.7627   -0.1713    0.1260\n",
            "------------------------------------------------------------------\n",
            "Omnibus:               3.139        Durbin-Watson:           2.201\n",
            "Prob(Omnibus):         0.208        Jarque-Bera (JB):        2.984\n",
            "Skew:                  0.421        Prob(JB):                0.225\n",
            "Kurtosis:              2.909        Condition No.:           10031\n",
            "==================================================================\n",
            "* The condition number is large (1e+04). This might indicate\n",
            "strong multicollinearity or other numerical problems.\n"
          ],
          "name": "stdout"
        }
      ]
    },
    {
      "cell_type": "markdown",
      "metadata": {
        "id": "HVYMZilLzAwp"
      },
      "source": [
        "Fit of distributions"
      ]
    },
    {
      "cell_type": "code",
      "metadata": {
        "colab": {
          "base_uri": "https://localhost:8080/",
          "height": 282
        },
        "id": "Xh03wyz7zOF3",
        "outputId": "0edeb83f-af1a-40e5-833e-258dde553376"
      },
      "source": [
        "x = stats.uniform(0,3).rvs(100)\n",
        "f = lambda x: ((x*2-1)*(x**2-2)*(x-2)+3)\n",
        "y = f(x) + stats.norm(0,0.2).rvs(len(x))\n",
        "\n",
        "\n",
        "x1=np.vstack(x)\n",
        "model1 = lm.LinearRegression()\n",
        "model1.fit(x1, y)\n",
        "\n",
        "#print(model1.coef_, model1.intercept_)\n",
        "\n",
        "prediction=model1.predict(x1)\n",
        "plt.scatter(x1, y)\n",
        "plt.plot(x1, prediction)\n",
        "\n"
      ],
      "execution_count": 14,
      "outputs": [
        {
          "output_type": "execute_result",
          "data": {
            "text/plain": [
              "[<matplotlib.lines.Line2D at 0x7fa02497c510>]"
            ]
          },
          "metadata": {
            "tags": []
          },
          "execution_count": 14
        },
        {
          "output_type": "display_data",
          "data": {
            "image/png": "[encoded data removed]",
            "text/plain": [
              "<Figure size 432x288 with 1 Axes>"
            ]
          },
          "metadata": {
            "tags": [],
            "needs_background": "light"
          }
        }
      ]
    },
    {
      "cell_type": "markdown",
      "metadata": {
        "id": "8wkwdX05zjVX"
      },
      "source": [
        " k-fold cross-validation for:\n",
        "\n",
        "    linear regression\n",
        "    second order polynomial regression\n",
        "    third order polynomial regression\n",
        "    fourth order  polynomial regression \n",
        "    fifth order polynomial regression \n",
        "    25th order  polynomial regression\n",
        "\n",
        "and averaged values for each of them."
      ]
    },
    {
      "cell_type": "code",
      "metadata": {
        "colab": {
          "base_uri": "https://localhost:8080/",
          "height": 627
        },
        "id": "W51Eg5Eu0Bh0",
        "outputId": "6d03cc97-ea17-46b8-aeb9-a75d01880b78"
      },
      "source": [
        "import numpy as np\n",
        "import scipy.stats as stats\n",
        "from sklearn import  linear_model\n",
        "import matplotlib.pyplot as plt\n",
        "from sklearn import model_selection\n",
        "from sklearn.preprocessing import PolynomialFeatures\n",
        "from sklearn.pipeline import make_pipeline\n",
        "\n",
        "# prepare models\n",
        "models = []\n",
        "models.append(('LR', linear_model.LinearRegression()))\n",
        "models.append(('PR2', make_pipeline(PolynomialFeatures(2), linear_model.LinearRegression()) ))\n",
        "models.append(('PR3', make_pipeline(PolynomialFeatures(3), linear_model.LinearRegression()) ))\n",
        "models.append(('PR4', make_pipeline(PolynomialFeatures(4), linear_model.LinearRegression()) ))\n",
        "models.append(('PR5', make_pipeline(PolynomialFeatures(5), linear_model.LinearRegression()) ))\n",
        "models.append(('PR25', make_pipeline(PolynomialFeatures(25), linear_model.LinearRegression()) ))\n",
        "\n",
        "# evaluate each model in turn\n",
        "results = []\n",
        "names = []\n",
        "scoring = 'neg_mean_absolute_error'\n",
        "#scoring = 'r2'\n",
        "\n",
        "seed=100\n",
        "x = stats.uniform(0,3).rvs(100)\n",
        "f = lambda x: ((x*2-1)*(x**2-2)*(x-2)+3)\n",
        "y = f(x) + stats.norm(0,0.2).rvs(len(x))\n",
        "x=np.vstack(x)\n",
        "for name, model in models:\n",
        "    kfold = model_selection.KFold(n_splits=10, random_state=seed)\n",
        "    cv_results = model_selection.cross_val_score(model, x, y, cv=kfold, scoring=scoring)\n",
        "    results.append(cv_results)\n",
        "    names.append(name)\n",
        "    msg = \"%s: %f (%f)\" % (name, cv_results.mean(), cv_results.std())\n",
        "    print(msg)\n",
        "    \n",
        "# boxplot algorithm comparison\n",
        "fig = plt.figure()\n",
        "fig.suptitle('Algorithm Comparison')\n",
        "ax = fig.add_subplot(111)\n",
        "plt.boxplot(results)\n",
        "ax.set_xticklabels(names)\n",
        "plt.show()\n",
        "\n"
      ],
      "execution_count": 21,
      "outputs": [
        {
          "output_type": "stream",
          "text": [
            "/usr/local/lib/python3.7/dist-packages/sklearn/model_selection/_split.py:296: FutureWarning: Setting a random_state has no effect since shuffle is False. This will raise an error in 0.24. You should leave random_state to its default (None), or set shuffle=True.\n",
            "  FutureWarning\n",
            "/usr/local/lib/python3.7/dist-packages/sklearn/model_selection/_split.py:296: FutureWarning: Setting a random_state has no effect since shuffle is False. This will raise an error in 0.24. You should leave random_state to its default (None), or set shuffle=True.\n",
            "  FutureWarning\n",
            "/usr/local/lib/python3.7/dist-packages/sklearn/model_selection/_split.py:296: FutureWarning: Setting a random_state has no effect since shuffle is False. This will raise an error in 0.24. You should leave random_state to its default (None), or set shuffle=True.\n",
            "  FutureWarning\n",
            "/usr/local/lib/python3.7/dist-packages/sklearn/model_selection/_split.py:296: FutureWarning: Setting a random_state has no effect since shuffle is False. This will raise an error in 0.24. You should leave random_state to its default (None), or set shuffle=True.\n",
            "  FutureWarning\n",
            "/usr/local/lib/python3.7/dist-packages/sklearn/model_selection/_split.py:296: FutureWarning: Setting a random_state has no effect since shuffle is False. This will raise an error in 0.24. You should leave random_state to its default (None), or set shuffle=True.\n",
            "  FutureWarning\n",
            "/usr/local/lib/python3.7/dist-packages/sklearn/model_selection/_split.py:296: FutureWarning: Setting a random_state has no effect since shuffle is False. This will raise an error in 0.24. You should leave random_state to its default (None), or set shuffle=True.\n",
            "  FutureWarning\n"
          ],
          "name": "stderr"
        },
        {
          "output_type": "stream",
          "text": [
            "LR: -5.064423 (0.980541)\n",
            "PR2: -3.205723 (0.661730)\n",
            "PR3: -0.648529 (0.140584)\n",
            "PR4: -0.147272 (0.038983)\n",
            "PR5: -0.144925 (0.038249)\n",
            "PR25: -0.160067 (0.042421)\n"
          ],
          "name": "stdout"
        },
        {
          "output_type": "display_data",
          "data": {
            "image/png": "[encoded data removed]",
            "text/plain": [
              "<Figure size 432x288 with 1 Axes>"
            ]
          },
          "metadata": {
            "tags": [],
            "needs_background": "light"
          }
        }
      ]
    },
    {
      "cell_type": "markdown",
      "metadata": {
        "id": "hgX7_l490K64"
      },
      "source": [
        " k-fold cross-validation for k = [1,2,3,4,5,6,7] and finding the optimal regression parameter."
      ]
    },
    {
      "cell_type": "code",
      "metadata": {
        "colab": {
          "base_uri": "https://localhost:8080/"
        },
        "id": "4yhfsvCK0Nxg",
        "outputId": "1de8f421-30ba-4c1d-a637-7a3bea902f4c"
      },
      "source": [
        ""
      ],
      "execution_count": 19,
      "outputs": [
        {
          "output_type": "stream",
          "text": [
            "GridSearchCV(cv=5, error_score=nan,\n",
            "             estimator=Pipeline(memory=None,\n",
            "                                steps=[('polynomialfeatures',\n",
            "                                        PolynomialFeatures(degree=2,\n",
            "                                                           include_bias=True,\n",
            "                                                           interaction_only=False,\n",
            "                                                           order='C')),\n",
            "                                       ('linearregression',\n",
            "                                        LinearRegression(copy_X=True,\n",
            "                                                         fit_intercept=True,\n",
            "                                                         n_jobs=None,\n",
            "                                                         normalize=False))],\n",
            "                                verbose=False),\n",
            "             iid='deprecated', n_jobs=None,\n",
            "             param_grid={'polynomialfeatures__degree': [1, 2, 3, 4, 5, 6, 7]},\n",
            "             pre_dispatch='2*n_jobs', refit=False, return_train_score=False,\n",
            "             scoring=None, verbose=0)\n"
          ],
          "name": "stdout"
        }
      ]
    }
  ]
}